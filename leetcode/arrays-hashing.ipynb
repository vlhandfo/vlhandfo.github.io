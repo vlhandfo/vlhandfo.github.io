{
 "cells": [
  {
   "cell_type": "markdown",
   "metadata": {},
   "source": [
    "# Leetcode Blind 75: Arrays & Hashing"
   ]
  },
  {
   "cell_type": "code",
   "execution_count": 13,
   "metadata": {},
   "outputs": [],
   "source": [
    "from typing import List\n",
    "import numpy as np"
   ]
  },
  {
   "cell_type": "markdown",
   "metadata": {},
   "source": [
    "## Easy"
   ]
  },
  {
   "cell_type": "markdown",
   "metadata": {},
   "source": [
    "### 217. Contains Duplicate\n",
    "\n",
    "Given an integer array `nums`, return `True` if any value appears at least twice in the array, and return `False` if every element is distinct"
   ]
  },
  {
   "cell_type": "code",
   "execution_count": 3,
   "metadata": {},
   "outputs": [],
   "source": [
    "def contains_duplicate(nums: List[int]) -> bool:\n",
    "\talready_seen = set()\n",
    "\n",
    "\tfor n in nums:\n",
    "\t\tif n in already_seen:\n",
    "\t\t\treturn True\n",
    "\t\talready_seen.add(n)\n",
    "\n",
    "\treturn False\n",
    "\n",
    "assert contains_duplicate([1,2,3,1])\n",
    "assert not contains_duplicate([1,2,3,4])\n",
    "assert contains_duplicate([1,1,1,3,3,4,3,2,4,2])\n",
    "assert not contains_duplicate([])"
   ]
  },
  {
   "cell_type": "markdown",
   "metadata": {},
   "source": [
    "### 242. Valid Anagram\n",
    "\n",
    "Given two strings `s` and `t`, return `True` if `t` is an anagram of `s`, and `False`` otherwise.\n",
    "\n",
    "An Anagram is a word or phrase formed by rearranging the letters of a different word or phrase, typically using all the original letters exactly once."
   ]
  },
  {
   "cell_type": "code",
   "execution_count": 7,
   "metadata": {},
   "outputs": [],
   "source": [
    "def is_anagram(source: str, target: str) -> bool:\n",
    "\tif len(source) != len(target): return False\n",
    "\n",
    "\tsource_counts = {}\n",
    "\ttarget_counts = {}\n",
    "\n",
    "\tfor s, t in zip(source, target):\n",
    "\t\tsource_counts[s] = source_counts.get(s, 0) + 1\n",
    "\t\ttarget_counts[t] = target_counts.get(t, 0) + 1\n",
    "\n",
    "\treturn source_counts == target_counts\n",
    "\n",
    "assert is_anagram(\"anagram\", \"nagaram\")\n",
    "assert not is_anagram(\"rat\", \"car\")"
   ]
  },
  {
   "cell_type": "markdown",
   "metadata": {},
   "source": [
    "### 1. Two Sum\n",
    "\n",
    "Given an array of integers `nums` and an integer `target`, return indices of the two numbers such that they add up to `target`.\n",
    "\n",
    "You may assume that each input would have exactly one solution, and you may not use the same element twice.\n",
    "\n",
    "You can return the answer in any order."
   ]
  },
  {
   "cell_type": "code",
   "execution_count": 12,
   "metadata": {},
   "outputs": [],
   "source": [
    "def two_sum(nums: List[int], target: int) -> List[int]:\n",
    "\t\"\"\"Assuming that exactly one solution exists\"\"\"\n",
    "\tidx_mapping = {}  # element we need -> index of element we've seen\n",
    "\n",
    "\tfor i, n in enumerate(nums):\n",
    "\t\tif n in idx_mapping:\n",
    "\t\t\treturn [idx_mapping[n], i]\n",
    "\t\tm = target - n\n",
    "\t\tidx_mapping[m] = i\n",
    "\n",
    "assert two_sum([2, 7, 11, 15], 9) == [0,1]\n",
    "assert two_sum([3, 2, 4], 6) == [1,2]\n",
    "assert two_sum([3, 3], 6) == [0,1]"
   ]
  },
  {
   "cell_type": "markdown",
   "metadata": {},
   "source": [
    "## Medium"
   ]
  },
  {
   "cell_type": "markdown",
   "metadata": {},
   "source": [
    "### 49. Group Anagrams\n",
    "\n",
    "Given an array of strings `strs`, group the anagrams together. You can return the answer in any order.\n",
    "\n",
    "An Anagram is a word or phrase formed by rearranging the letters of a different word or phrase, typically using all the original letters exactly once."
   ]
  },
  {
   "cell_type": "code",
   "execution_count": 18,
   "metadata": {},
   "outputs": [],
   "source": [
    "def group_anagrams(strs: List[str]) -> List[str]:\n",
    "\t# encoded anagram -> words\n",
    "\tgrouping = {}\n",
    "\n",
    "\tfor string in strs:\n",
    "\t\tencoding = np.zeros(26)    # one 0 for letters a-z\n",
    "\n",
    "\t\tfor character in string:\n",
    "\t\t\t# index using ascii values\n",
    "\t\t\t# subtract ascii value of \"a\" to start at 0\n",
    "\t\t\tencoding[ord(character) - ord(\"a\")] += 1\n",
    "\t\t\n",
    "\t\tencoding = tuple(encoding)    # np.ndarrays are not hashable\n",
    "\t\tvalue = grouping.get(encoding, [])\n",
    "\t\tvalue.append(string)\n",
    "\t\tgrouping[encoding] = value\n",
    "\n",
    "\treturn list(grouping.values())\n",
    "\n",
    "assert group_anagrams([\"eat\",\"tea\",\"tan\",\"ate\",\"nat\",\"bat\"]) == [['eat', 'tea', 'ate'], ['tan', 'nat'], ['bat']]\n",
    "assert group_anagrams([\"\"]) == [[\"\"]]\n",
    "assert group_anagrams([\"a\"]) == [[\"a\"]]\n"
   ]
  },
  {
   "cell_type": "markdown",
   "metadata": {},
   "source": [
    "### 347. Top K Frequent Elements\n",
    "\n",
    "Given an integer array `nums` and an integer `k`, return the k most frequent elements. You may return the answer in any order."
   ]
  },
  {
   "cell_type": "code",
   "execution_count": 28,
   "metadata": {},
   "outputs": [],
   "source": [
    "def top_k_frequent(nums: List[int], k: int) -> List[int]:\n",
    "\t\"\"\"\n",
    "\tExample:\n",
    "\n",
    "\tnums = [1,2,3,1]\n",
    "\tranking = [[], [], [], []]\n",
    "\tfreq = {1: 2, 2: 1, 3: 1}\n",
    "\n",
    "\tranking = [[2, 3], [1], [], []]\n",
    "\t  N occ: <    1     2    3   4  >\t\n",
    "\t\"\"\"\n",
    "\n",
    "\tif len(nums) == 0: return nums    # empty list\n",
    "\n",
    "\tranking = [[] for _ in range(len(nums) + 1)]\n",
    "\tfreq = {n : nums.count(n) for n in nums}\n",
    "\n",
    "\tfor n, c in freq.items():\n",
    "\t\tranking[c].append(n)\n",
    "\n",
    "\tresult = []\n",
    "\tfor i in range(len(ranking) - 1, 0, -1):\n",
    "\t\tfor n in ranking[i]:\n",
    "\t\t\tresult.append(n)\n",
    "\t\t\tif len(result) == k:\n",
    "\t\t\t\treturn result\n",
    "\n",
    "assert top_k_frequent([1,1,1,2,2,3], 2) == [1, 2]\n",
    "assert top_k_frequent([1], 1) == [1], top_k_frequent([1], 1)\n"
   ]
  },
  {
   "cell_type": "code",
   "execution_count": null,
   "metadata": {},
   "outputs": [],
   "source": [
    "def top_k_frequent_sorted(nums: List[int], k: int) -> List[int]:\n",
    "\tif len(nums) == 0: return nums    # empty list\n",
    "\n",
    "\treturn sorted(set(nums), \n",
    "\t\t\t   key= lambda x: nums.count(x),\n",
    "\t\t\t   reverse=True)[:k]\n",
    "\n",
    "assert top_k_frequent_sorted([1,1,1,2,2,3], 2) == [1, 2]\n",
    "assert top_k_frequent_sorted([1], 1) == [1], top_k_frequent([1], 1)"
   ]
  },
  {
   "cell_type": "markdown",
   "metadata": {},
   "source": [
    "### Product of Array Except Self"
   ]
  },
  {
   "cell_type": "markdown",
   "metadata": {},
   "source": [
    "### Encode and Decode Strings"
   ]
  },
  {
   "cell_type": "markdown",
   "metadata": {},
   "source": [
    "### Longest Consecutive Sequence"
   ]
  }
 ],
 "metadata": {
  "kernelspec": {
   "display_name": "Python 3",
   "language": "python",
   "name": "python3"
  },
  "language_info": {
   "codemirror_mode": {
    "name": "ipython",
    "version": 3
   },
   "file_extension": ".py",
   "mimetype": "text/x-python",
   "name": "python",
   "nbconvert_exporter": "python",
   "pygments_lexer": "ipython3",
   "version": "3.10.12"
  },
  "orig_nbformat": 4
 },
 "nbformat": 4,
 "nbformat_minor": 2
}
