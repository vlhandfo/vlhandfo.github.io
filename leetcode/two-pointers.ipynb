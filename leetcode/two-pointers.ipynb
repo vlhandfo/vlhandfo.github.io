{
 "cells": [
  {
   "cell_type": "markdown",
   "metadata": {},
   "source": [
    "# Two-Pointer"
   ]
  },
  {
   "cell_type": "code",
   "execution_count": 5,
   "metadata": {},
   "outputs": [],
   "source": [
    "from typing import List"
   ]
  },
  {
   "cell_type": "markdown",
   "metadata": {},
   "source": [
    "## 125. Valid Palindrome\n",
    "\n",
    "A phrase is a palindrome if, after converting all uppercase letters into lowercase letters and removing all non-alphanumeric characters, it reads the same forward and backward. Alphanumeric characters include letters and numbers.\n",
    "\n",
    "Given a string `s`, return `True` if it is a palindrome, or `False` otherwise."
   ]
  },
  {
   "cell_type": "code",
   "execution_count": 4,
   "metadata": {},
   "outputs": [],
   "source": [
    "def is_palindrom(s: str) -> bool:\n",
    "\tleft, right = 0, len(s) - 1\n",
    "\twhile left < right:\n",
    "\t\twhile left < right and not s[left].isalnum():\n",
    "\t\t\tleft += 1\n",
    "\t\twhile left < right and not s[right].isalnum():\n",
    "\t\t\tright -= 1\n",
    "\n",
    "\t\tif s[left].lower() != s[right].lower():\n",
    "\t\t\treturn False\n",
    "\n",
    "\t\tleft += 1\n",
    "\t\tright -=1\n",
    "\n",
    "\treturn True\n",
    "\n",
    "assert is_palindrom(\"racecar\")\n",
    "assert not is_palindrom(\"race a car\")\n",
    "assert is_palindrom(\" \")"
   ]
  },
  {
   "cell_type": "markdown",
   "metadata": {},
   "source": [
    "### 11. Container with Most Water\n",
    "\n",
    "You are given an integer array `height` of length `n`. There are `n` vertical lines drawn such that the two endpoints of the `ith` line are `(i, 0)` and `(i, height[i])`.\n",
    "\n",
    "Find two lines that together with the x-axis form a container, such that the container contains the most water.\n",
    "\n",
    "Return the maximum amount of water a container can store.\n",
    "\n",
    "Notice that you may not slant the container."
   ]
  },
  {
   "cell_type": "code",
   "execution_count": 9,
   "metadata": {},
   "outputs": [],
   "source": [
    "def max_area(height: List[int]) -> int:\n",
    "\tleft, right = 0, len(height) - 1\n",
    "\t\n",
    "\tbest = 0\n",
    "\twhile left < right:\n",
    "\t\tshortest = min(height[left], height[right])\n",
    "\t\twidth = right - left\n",
    "\t\tbest = max(best, shortest * width)\n",
    "\n",
    "\t\tif height[left] < height[right]:\n",
    "\t\t\tleft += 1\n",
    "\t\telse:\n",
    "\t\t\tright -= 1\n",
    "\n",
    "\treturn best\n",
    "\n",
    "\n",
    "assert max_area([1,8,6,2,5,4,8,3,7]) == 49\n",
    "assert max_area([1, 1]) == 1"
   ]
  },
  {
   "cell_type": "markdown",
   "metadata": {},
   "source": [
    "### 15. 3 Sum\n",
    "\n",
    "Given an integer array nums, return all the triplets [nums[i], nums[j], nums[k]] such that i != j, i != k, and j != k, and nums[i] + nums[j] + nums[k] == 0.\n",
    "\n",
    "Notice that the solution set must not contain duplicate triplets."
   ]
  }
 ],
 "metadata": {
  "kernelspec": {
   "display_name": "Python 3",
   "language": "python",
   "name": "python3"
  },
  "language_info": {
   "codemirror_mode": {
    "name": "ipython",
    "version": 3
   },
   "file_extension": ".py",
   "mimetype": "text/x-python",
   "name": "python",
   "nbconvert_exporter": "python",
   "pygments_lexer": "ipython3",
   "version": "3.10.12"
  },
  "orig_nbformat": 4
 },
 "nbformat": 4,
 "nbformat_minor": 2
}
